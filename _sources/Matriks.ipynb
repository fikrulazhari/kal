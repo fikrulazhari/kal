{
  "cells": [
    {
      "cell_type": "markdown",
      "metadata": {
        "id": "Q_q0eJ6ZS-Qa"
      },
      "source": [
        "# Matriks\n",
        "## **Definisi Matriks**\n",
        " Matriks adalah susunan bilangan-bilangan berbentuk persegi panjang yang diatur dalam baris atau kolom dengan dibatasi kurung. Bilangan yang tersusun dalam matriks disebut elemen/unsur matriks. Baris adalah susunan bilangan-bilangan yang mendatar (horizontal), sedangkan kolom adalah susunan bilangan-bilangan yang tegak (vertikal). Ordo matriks adalah banyaknya elemen baris dan banyaknya elemen kolom dari suatu matriks. Jika sebuah matriks memiliki i baris dan j kolom, maka matriks tersebut berordo i x j, dapat dituliskan Ai.j.\n",
        "\n",
        "**Ciri-ciri matriks**\n",
        "\n",
        "- Terdiri dari bilangan real atau kompleks\n",
        "\n",
        "- Disusun dalam baris dan kolom\n",
        "- Terbentuk jajaran persegi panjang\n",
        "- Ditulis dalam tanda kurung, bisa kurung biasa “( )” atau kurung siku “”\n",
        "- Diberi nama dengan huruf kapital, seperti A, B, C, dan seterusnya\n",
        "- Anggotanya dinyatakan dengan huruf kecil\n",
        "- Anggotanya dapat dinyatakan dengan huruf kecil yang berindeks ganda\n",
        "\n",
        "## **Operasi Aritmatika Matriks**\n",
        "Apa itu operasi matriks? Operasi matriks adalah operasi terhadap dua atau lebih matriks. Operasi matriks juga dikenal sebagai operasi aljabar matriks. Pada dasarnya, operasi matriks itu meliputi penjumlahan, pengurangan, dan perkalian matriks.\n",
        "\n",
        "Eh, tapi kok ada yang kurang ya? Kok tidak ada pembagian seperti halnya perhitungan matematika dasar pada umumnya?\n",
        "\n",
        "Jadi, pada operasi matriks memang tidak ada pembagian karena perkalian matriks itu bersifat tidak komutatif. Apa maksudnya sifat komutatif? Sifat komutatif merupakan sifat dalam operasi hitung yang akan tetap menghasilkan hal sama meskipun letaknya ditukar.\n",
        "\n",
        "### Penjumlahan Matriks\n",
        "Operasi matriks yang pertama kita bahas adalah penjumlahan matriks. Operasi matriks adalah penjumlahan 2 matriks yang letak komponennya sama. Sebenarnya, operasi matriks tidak jauh beda dengan operasi penjumlahan pada umumnya, tapi ada syarat matriks bisa dijumlahkan.\n",
        "Apa sih syarat matriks bisa dijumlahkan? Syarat matriks agar bisa dijumlahkan adalah dua matriks harus memiliki ordo yang sama.\n",
        "\n",
        "#### Konsep Penjumlahan Matriks\n",
        "Berikut contoh penjumlahan matriks"
      ]
    },
    {
      "cell_type": "code",
      "execution_count": 1,
      "metadata": {
        "colab": {
          "base_uri": "https://localhost:8080/"
        },
        "id": "cdTaBMdqTJ-a",
        "outputId": "c59931d3-246c-45ca-aca3-0240aab0c692"
      },
      "outputs": [
        {
          "name": "stdout",
          "output_type": "stream",
          "text": [
            "Penjumlahan Matriks:\n",
            "Matrix([[2, 4, 5]])  +  Matrix([[-3, 4, 8]])  =  Matrix([[-1, 8, 13]])\n",
            "Matrix([[1, 8, 7]])  +  Matrix([[2, -4, 6]])  =  Matrix([[3, 4, 13]])\n",
            "Matrix([[3, 0, 6]])  +  Matrix([[5, 7, 0]])  =  Matrix([[8, 7, 6]])\n"
          ]
        }
      ],
      "source": [
        "import sympy as sy\n",
        "\n",
        "# Definisi matriks dengan SymPy\n",
        "a_sy = sy.Matrix([[2, 4, 5], [1, 8, 7], [3, 0, 6]])\n",
        "b_sy = sy.Matrix([[-3, 4, 8], [2, -4, 6], [5, 7, 0]])\n",
        "\n",
        "# Penjumlahan matriks dengan SymPy\n",
        "sum_sympy = a_sy + b_sy\n",
        "\n",
        "print(\"Penjumlahan Matriks:\")\n",
        "\n",
        "def display_side_by_side(m1, m2, result):\n",
        "    rows = len(m1.tolist())\n",
        "    for i in range(rows):\n",
        "        print(m1.row(i), \" + \", m2.row(i), \" = \", result.row(i))\n",
        "\n",
        "display_side_by_side(a_sy, b_sy, sum_sympy)"
      ]
    },
    {
      "cell_type": "markdown",
      "metadata": {
        "id": "lqoPoqzCTL7v"
      },
      "source": [
        "## Pengurangan Matriks\n",
        "Syarat pengurangan matriks pun sama dengan penjumlahan, yaitu kedua matriks harus memiliki ordo yang sama sehingga bisa dioperasikan.\n",
        "\n",
        "Konsep Pengurangan Matriks\n",
        "Berikut contoh pengurangan matriks"
      ]
    },
    {
      "cell_type": "code",
      "execution_count": 2,
      "metadata": {
        "colab": {
          "base_uri": "https://localhost:8080/"
        },
        "id": "_OUkSv00TX7S",
        "outputId": "2b3e284e-af08-40f6-fbe0-17d6fddaad45"
      },
      "outputs": [
        {
          "name": "stdout",
          "output_type": "stream",
          "text": [
            "Pengurangan Matriks:\n",
            "Matrix([[2, 4, 5]])  -  Matrix([[-3, 4, 8]])  =  Matrix([[5, 0, -3]])\n",
            "Matrix([[1, 8, 7]])  -  Matrix([[2, -4, 6]])  =  Matrix([[-1, 12, 1]])\n",
            "Matrix([[3, 0, 6]])  -  Matrix([[5, 7, 0]])  =  Matrix([[-2, -7, 6]])\n"
          ]
        }
      ],
      "source": [
        "import sympy as sy\n",
        "\n",
        "# Definisi matriks dengan SymPy\n",
        "a_sy = sy.Matrix([[2, 4, 5], [1, 8, 7], [3, 0, 6]])\n",
        "b_sy = sy.Matrix([[-3, 4, 8], [2, -4, 6], [5, 7, 0]])\n",
        "\n",
        "# Pengurangan matriks dengan SymPy\n",
        "diff_sympy = a_sy - b_sy\n",
        "\n",
        "print(\"Pengurangan Matriks:\")\n",
        "\n",
        "def display_side_by_side(m1, m2, result):\n",
        "    rows = len(m1.tolist())\n",
        "    for i in range(rows):\n",
        "        print(m1.row(i), \" - \", m2.row(i), \" = \", result.row(i))\n",
        "\n",
        "display_side_by_side(a_sy, b_sy, diff_sympy)"
      ]
    },
    {
      "cell_type": "markdown",
      "metadata": {
        "id": "I2BNRCvYT6PP"
      },
      "source": [
        "## Operasi Perkalian Matriks\n",
        "  Perkalian matriks ada 2, yaitu :\n",
        "-  Operasi Perkalian Matriks dengan Bilangan Real (Skalar)\n",
        "- Operasi Perkalian Dua Matriks\n",
        "\n",
        "### Operasi Perkalian Matriks dengan Bilangan Real (Skalar)\n",
        "\n",
        "Perkalian matriks dengan bilangan real (skalar) tidak memiliki persyaratan. Jadi, semua matriks dengan ordo apapun bisa dikalikan dengan bilangan real (skalar).\n",
        "\n",
        "Contoh :"
      ]
    },
    {
      "cell_type": "code",
      "execution_count": 3,
      "metadata": {
        "colab": {
          "base_uri": "https://localhost:8080/"
        },
        "id": "U8AcfVx0VZJw",
        "outputId": "102e1be8-4258-475f-dad1-d0bae2c175a4"
      },
      "outputs": [
        {
          "name": "stdout",
          "output_type": "stream",
          "text": [
            "Perkalian Matriks dengan Skalar:\n",
            "3 * Matrix([[2, 4, 5]]) = Matrix([[6, 12, 15]])\n",
            "3 * Matrix([[1, 8, 7]]) = Matrix([[3, 24, 21]])\n",
            "3 * Matrix([[3, 0, 6]]) = Matrix([[9, 0, 18]])\n"
          ]
        }
      ],
      "source": [
        "import sympy as sy\n",
        "\n",
        "# Definisi matriks dengan SymPy\n",
        "a_sy = sy.Matrix([[2, 4, 5], [1, 8, 7], [3, 0, 6]])\n",
        "\n",
        "# Definisi skalar\n",
        "scalar = 3\n",
        "\n",
        "# Perkalian matriks dengan skalar\n",
        "prod_sympy = scalar * a_sy\n",
        "\n",
        "print(\"Perkalian Matriks dengan Skalar:\")\n",
        "\n",
        "def display_scalar_multiplication(scalar, matrix, result):\n",
        "    rows = len(matrix.tolist())\n",
        "    for i in range(rows):\n",
        "        print(f\"{scalar} * {matrix.row(i)} = {result.row(i)}\")\n",
        "\n",
        "display_scalar_multiplication(scalar, a_sy, prod_sympy)"
      ]
    },
    {
      "cell_type": "markdown",
      "metadata": {
        "id": "cyOHkLRkVe0m"
      },
      "source": [
        " ### Operasi Perkalian Dua Matriks\n",
        "Pada pembahasan sebelumnya, kita sudah mengetahui bagaimana cara mengalikan matriks dengan bilangan real (skalar).\n",
        "\n",
        "#### Operasi perkalian dua matriks memilik berberapa sifat, yaitu:\n",
        "- Tidak Komutatif\n",
        "\n",
        "Operasi perkalian dua matriks bersifat tidak komutatif. Artinya, berbeda dengan perkalian pada umumnya.\n",
        "\n",
        "-  Sifat Distributif\n",
        "\n",
        "Pada sifat distributif ini berkaitan dengan operasi penjumlahan matriks.\n"
      ]
    },
    {
      "cell_type": "code",
      "execution_count": 4,
      "metadata": {
        "colab": {
          "base_uri": "https://localhost:8080/"
        },
        "id": "G7ezswACVmLk",
        "outputId": "ff97a7e2-5b94-4156-8805-94747b14127e"
      },
      "outputs": [
        {
          "name": "stdout",
          "output_type": "stream",
          "text": [
            "Perkalian Matriks dengan Matriks:\n",
            "Matrix([[2, 4, 5]])  *  Matrix([[-3, 4, 8], [2, -4, 6], [5, 7, 0]])  =  Matrix([[27, 27, 40]])\n",
            "Matrix([[1, 8, 7]])  *  Matrix([[-3, 4, 8], [2, -4, 6], [5, 7, 0]])  =  Matrix([[48, 21, 56]])\n",
            "Matrix([[3, 0, 6]])  *  Matrix([[-3, 4, 8], [2, -4, 6], [5, 7, 0]])  =  Matrix([[21, 54, 24]])\n"
          ]
        }
      ],
      "source": [
        "import sympy as sy\n",
        "\n",
        "# Definisi matriks dengan SymPy\n",
        "a_sy = sy.Matrix([[2, 4, 5], [1, 8, 7], [3, 0, 6]])\n",
        "b_sy = sy.Matrix([[-3, 4, 8], [2, -4, 6], [5, 7, 0]])\n",
        "\n",
        "# Perkalian matriks dengan SymPy\n",
        "prod_sympy = a_sy * b_sy\n",
        "\n",
        "print(\"Perkalian Matriks dengan Matriks:\")\n",
        "\n",
        "def display_side_by_side(m1, m2, result):\n",
        "    rows = len(m1.tolist())\n",
        "    for i in range(rows):\n",
        "        print(m1.row(i), \" * \", m2, \" = \", result.row(i))\n",
        "\n",
        "display_side_by_side(a_sy, b_sy, prod_sympy)"
      ]
    },
    {
      "cell_type": "markdown",
      "metadata": {},
      "source": [
        "### Penyelesaian persamaan menggunakan invers matrik\n",
        "\n",
        "Kita diberikan sistem persamaan linear:\n",
        "\n",
        "$\n",
        "\\begin{aligned}\n",
        "    -7x_1 - 6x_2 - 12x_3 &= -33 \\\\\n",
        "    5x_1 + 5x_2 + 7x_3 &= 24 \\\\\n",
        "    x_1 + 4x_3 &= 5\n",
        "\\end{aligned}\n",
        "$\n",
        "\n",
        "#### *1. Bentuk Matriks*\n",
        "Sistem persamaan di atas dapat dituliskan dalam bentuk matriks:\n",
        "\n",
        "$\n",
        "A \\mathbf{x} = \\mathbf{b}\n",
        "$\n",
        "\n",
        "dengan:\n",
        "\n",
        "$\n",
        "A =\n",
        "\\begin{bmatrix}\n",
        "-7 & -6 & -12 \\\\\n",
        "5 & 5 & 7 \\\\\n",
        "1 & 0 & 4\n",
        "\\end{bmatrix},\n",
        "\\quad\n",
        "\\mathbf{x} =\n",
        "\\begin{bmatrix}\n",
        "x_1 \\\\ x_2 \\\\ x_3\n",
        "\\end{bmatrix},\n",
        "\\quad\n",
        "\\mathbf{b} =\n",
        "\\begin{bmatrix}\n",
        "-33 \\\\ 24 \\\\ 5\n",
        "\\end{bmatrix}\n",
        "$\n",
        "\n",
        "Penyelesaian sistem menggunakan invers matriks diberikan oleh:\n",
        "\n",
        "$\n",
        "\\mathbf{x} = A^{-1} \\mathbf{b}\n",
        "$\n",
        "\n",
        "Kita akan mencari $ A^{-1} $ menggunakan operasi baris elementer.\n",
        "\n",
        "---\n",
        "\n",
        "#### *2. Menentukan $ A^{-1} $ Menggunakan Operasi Baris Elementer*\n",
        "Kita mulai dengan matriks augmented:\n",
        "\n",
        "$\n",
        "\\left[ A \\,|\\, I \\right] =\n",
        "\\left[\n",
        "\\begin{array}{ccc|ccc}\n",
        "-7 & -6 & -12 & 1 & 0 & 0 \\\\\n",
        "5 & 5 & 7 & 0 & 1 & 0 \\\\\n",
        "1 & 0 & 4 & 0 & 0 & 1\n",
        "\\end{array}\n",
        "\\right]\n",
        "$\n",
        "\n",
        "*Langkah 1: Ubah elemen (1,1) menjadi 1*\n",
        "Kita bagi baris pertama dengan $ -7 $:\n",
        "\n",
        "$\n",
        "\\left[\n",
        "\\begin{array}{ccc|ccc}\n",
        "1 & \\frac{6}{7} & \\frac{12}{7} & -\\frac{1}{7} & 0 & 0 \\\\\n",
        "5 & 5 & 7 & 0 & 1 & 0 \\\\\n",
        "1 & 0 & 4 & 0 & 0 & 1\n",
        "\\end{array}\n",
        "\\right]\n",
        "$\n",
        "\n",
        "*Langkah 2: Nulifikasi elemen (2,1) dan (3,1)*  \n",
        "Baris kedua: $ R_2 \\leftarrow R_2 - 5R_1 $  \n",
        "Baris ketiga: $ R_3 \\leftarrow R_3 - R_1 $\n",
        "\n",
        "$\n",
        "\\left[\n",
        "\\begin{array}{ccc|ccc}\n",
        "1 & \\frac{6}{7} & \\frac{12}{7} & -\\frac{1}{7} & 0 & 0 \\\\\n",
        "0 & \\frac{5}{7} & \\frac{1}{7} & \\frac{5}{7} & 1 & 0 \\\\\n",
        "0 & -\\frac{6}{7} & \\frac{16}{7} & \\frac{1}{7} & 0 & 1\n",
        "\\end{array}\n",
        "\\right]\n",
        "$\n",
        "\n",
        "*Langkah 3: Ubah elemen (2,2) menjadi 1*  \n",
        "Kita kalikan baris kedua dengan $ \\frac{7}{5} $:\n",
        "\n",
        "$\n",
        "\\left[\n",
        "\\begin{array}{ccc|ccc}\n",
        "1 & \\frac{6}{7} & \\frac{12}{7} & -\\frac{1}{7} & 0 & 0 \\\\\n",
        "0 & 1 & \\frac{1}{5} & \\frac{1}{5} & \\frac{7}{5} & 0 \\\\\n",
        "0 & -\\frac{6}{7} & \\frac{16}{7} & \\frac{1}{7} & 0 & 1\n",
        "\\end{array}\n",
        "\\right]\n",
        "$\n",
        "\n",
        "*Langkah 4: Nulifikasi elemen (1,2) dan (3,2)*  \n",
        "Baris pertama: $ R_1 \\leftarrow R_1 - \\frac{6}{7} R_2 $  \n",
        "Baris ketiga: $ R_3 \\leftarrow R_3 + \\frac{6}{7} R_2 $\n",
        "\n",
        "$\n",
        "\\left[\n",
        "\\begin{array}{ccc|ccc}\n",
        "1 & 0 & \\frac{10}{7} & -\\frac{5}{21} & -\\frac{6}{5} & 0 \\\\\n",
        "0 & 1 & \\frac{1}{5} & \\frac{1}{5} & \\frac{7}{5} & 0 \\\\\n",
        "0 & 0 & \\frac{22}{7} & \\frac{11}{35} & \\frac{42}{35} & 1\n",
        "\\end{array}\n",
        "\\right]\n",
        "$\n",
        "\n",
        "*Langkah 5: Ubah elemen (3,3) menjadi 1*  \n",
        "Kita kalikan baris ketiga dengan $ \\frac{7}{22} $:\n",
        "\n",
        "$\n",
        "\\left[\n",
        "\\begin{array}{ccc|ccc}\n",
        "1 & 0 & \\frac{10}{7} & -\\frac{5}{21} & -\\frac{6}{5} & 0 \\\\\n",
        "0 & 1 & \\frac{1}{5} & \\frac{1}{5} & \\frac{7}{5} & 0 \\\\\n",
        "0 & 0 & 1 & \\frac{1}{10} & \\frac{21}{22} & \\frac{7}{22}\n",
        "\\end{array}\n",
        "\\right]\n",
        "$\n",
        "\n",
        "*Langkah 6: Nulifikasi elemen (1,3) dan (2,3)*  \n",
        "Baris pertama: $ R_1 \\leftarrow R_1 - \\frac{10}{7} R_3 $  \n",
        "Baris kedua: $ R_2 \\leftarrow R_2 - \\frac{1}{5} R_3 $\n",
        "\n",
        "$\n",
        "\\left[\n",
        "\\begin{array}{ccc|ccc}\n",
        "1 & 0 & 0 & -\\frac{8}{21} & -\\frac{9}{5} & -\\frac{10}{22} \\\\\n",
        "0 & 1 & 0 & \\frac{1}{5} - \\frac{1}{50} & \\frac{7}{5} - \\frac{21}{110} & -\\frac{7}{110} \\\\\n",
        "0 & 0 & 1 & \\frac{1}{10} & \\frac{21}{22} & \\frac{7}{22}\n",
        "\\end{array}\n",
        "\\right]\n",
        "$\n",
        "\n",
        "Setelah disederhanakan, kita dapatkan invers matriks $ A^{-1} $:\n",
        "\n",
        "$\n",
        "A^{-1} =\n",
        "\\begin{bmatrix}\n",
        "-\\frac{8}{21} & -\\frac{9}{5} & -\\frac{5}{11} \\\\\n",
        "\\frac{2}{7} & \\frac{37}{35} & -\\frac{7}{55} \\\\\n",
        "\\frac{1}{10} & \\frac{21}{22} & \\frac{7}{22}\n",
        "\\end{bmatrix}\n",
        "$\n",
        "\n",
        "---\n",
        "\n",
        "#### *3. Menghitung $ \\mathbf{x} = A^{-1} \\mathbf{b} $*\n",
        "\n",
        "$\n",
        "\\mathbf{x} =\n",
        "\\begin{bmatrix}\n",
        "-\\frac{8}{21} & -\\frac{9}{5} & -\\frac{5}{11} \\\\\n",
        "\\frac{2}{7} & \\frac{37}{35} & -\\frac{7}{55} \\\\\n",
        "\\frac{1}{10} & \\frac{21}{22} & \\frac{7}{22}\n",
        "\\end{bmatrix}\n",
        "\\begin{bmatrix}\n",
        "-33 \\\\ 24 \\\\ 5\n",
        "\\end{bmatrix}\n",
        "$\n",
        "\n",
        "Setelah dihitung, diperoleh:\n",
        "\n",
        "$\n",
        "\\mathbf{x} =\n",
        "\\begin{bmatrix}\n",
        "1 \\\\ 2 \\\\ 1\n",
        "\\end{bmatrix}\n",
        "$\n",
        "\n",
        "Jadi, solusi dari sistem persamaan adalah:\n",
        "\n",
        "$\n",
        "x_1 = 1, \\quad x_2 = 2, \\quad x_3 = 1\n",
        "$"
      ]
    }
  ],
  "metadata": {
    "colab": {
      "provenance": []
    },
    "kernelspec": {
      "display_name": "Python 3",
      "name": "python3"
    },
    "language_info": {
      "name": "python"
    }
  },
  "nbformat": 4,
  "nbformat_minor": 0
}
