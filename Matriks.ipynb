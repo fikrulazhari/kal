{
  "nbformat": 4,
  "nbformat_minor": 0,
  "metadata": {
    "colab": {
      "provenance": []
    },
    "kernelspec": {
      "name": "python3",
      "display_name": "Python 3"
    },
    "language_info": {
      "name": "python"
    }
  },
  "cells": [
    {
      "cell_type": "markdown",
      "source": [
        "# Matriks\n",
        "## **Definisi Matriks**\n",
        " Matriks adalah susunan bilangan-bilangan berbentuk persegi panjang yang diatur dalam baris atau kolom dengan dibatasi kurung. Bilangan yang tersusun dalam matriks disebut elemen/unsur matriks. Baris adalah susunan bilangan-bilangan yang mendatar (horizontal), sedangkan kolom adalah susunan bilangan-bilangan yang tegak (vertikal). Ordo matriks adalah banyaknya elemen baris dan banyaknya elemen kolom dari suatu matriks. Jika sebuah matriks memiliki i baris dan j kolom, maka matriks tersebut berordo i x j, dapat dituliskan Ai.j.\n",
        "\n",
        "**Ciri-ciri matriks**\n",
        "\n",
        "- Terdiri dari bilangan real atau kompleks\n",
        "\n",
        "- Disusun dalam baris dan kolom\n",
        "- Terbentuk jajaran persegi panjang\n",
        "- Ditulis dalam tanda kurung, bisa kurung biasa “( )” atau kurung siku “”\n",
        "- Diberi nama dengan huruf kapital, seperti A, B, C, dan seterusnya\n",
        "- Anggotanya dinyatakan dengan huruf kecil\n",
        "- Anggotanya dapat dinyatakan dengan huruf kecil yang berindeks ganda\n",
        "\n",
        "## **Operasi Aritmatika Matriks**\n",
        "Apa itu operasi matriks? Operasi matriks adalah operasi terhadap dua atau lebih matriks. Operasi matriks juga dikenal sebagai operasi aljabar matriks. Pada dasarnya, operasi matriks itu meliputi penjumlahan, pengurangan, dan perkalian matriks.\n",
        "\n",
        "Eh, tapi kok ada yang kurang ya? Kok tidak ada pembagian seperti halnya perhitungan matematika dasar pada umumnya?\n",
        "\n",
        "Jadi, pada operasi matriks memang tidak ada pembagian karena perkalian matriks itu bersifat tidak komutatif. Apa maksudnya sifat komutatif? Sifat komutatif merupakan sifat dalam operasi hitung yang akan tetap menghasilkan hal sama meskipun letaknya ditukar.\n",
        "\n",
        "### Penjumlahan Matriks\n",
        "Operasi matriks yang pertama kita bahas adalah penjumlahan matriks. Operasi matriks adalah penjumlahan 2 matriks yang letak komponennya sama. Sebenarnya, operasi matriks tidak jauh beda dengan operasi penjumlahan pada umumnya, tapi ada syarat matriks bisa dijumlahkan.\n",
        "Apa sih syarat matriks bisa dijumlahkan? Syarat matriks agar bisa dijumlahkan adalah dua matriks harus memiliki ordo yang sama.\n",
        "\n",
        "#### Konsep Penjumlahan Matriks\n",
        "Berikut contoh penjumlahan matriks"
      ],
      "metadata": {
        "id": "Q_q0eJ6ZS-Qa"
      }
    },
    {
      "cell_type": "code",
      "source": [
        "import sympy as sy\n",
        "\n",
        "# Definisi matriks dengan SymPy\n",
        "a_sy = sy.Matrix([[2, 4, 5], [1, 8, 7], [3, 0, 6]])\n",
        "b_sy = sy.Matrix([[-3, 4, 8], [2, -4, 6], [5, 7, 0]])\n",
        "\n",
        "# Penjumlahan matriks dengan SymPy\n",
        "sum_sympy = a_sy + b_sy\n",
        "\n",
        "print(\"Penjumlahan Matriks:\")\n",
        "\n",
        "def display_side_by_side(m1, m2, result):\n",
        "    rows = len(m1.tolist())\n",
        "    for i in range(rows):\n",
        "        print(m1.row(i), \" + \", m2.row(i), \" = \", result.row(i))\n",
        "\n",
        "display_side_by_side(a_sy, b_sy, sum_sympy)"
      ],
      "metadata": {
        "colab": {
          "base_uri": "https://localhost:8080/"
        },
        "id": "cdTaBMdqTJ-a",
        "outputId": "c59931d3-246c-45ca-aca3-0240aab0c692"
      },
      "execution_count": 1,
      "outputs": [
        {
          "output_type": "stream",
          "name": "stdout",
          "text": [
            "Penjumlahan Matriks:\n",
            "Matrix([[2, 4, 5]])  +  Matrix([[-3, 4, 8]])  =  Matrix([[-1, 8, 13]])\n",
            "Matrix([[1, 8, 7]])  +  Matrix([[2, -4, 6]])  =  Matrix([[3, 4, 13]])\n",
            "Matrix([[3, 0, 6]])  +  Matrix([[5, 7, 0]])  =  Matrix([[8, 7, 6]])\n"
          ]
        }
      ]
    },
    {
      "cell_type": "markdown",
      "source": [
        "## Pengurangan Matriks\n",
        "Syarat pengurangan matriks pun sama dengan penjumlahan, yaitu kedua matriks harus memiliki ordo yang sama sehingga bisa dioperasikan.\n",
        "\n",
        "Konsep Pengurangan Matriks\n",
        "Berikut contoh pengurangan matriks"
      ],
      "metadata": {
        "id": "lqoPoqzCTL7v"
      }
    },
    {
      "cell_type": "code",
      "source": [
        "import sympy as sy\n",
        "\n",
        "# Definisi matriks dengan SymPy\n",
        "a_sy = sy.Matrix([[2, 4, 5], [1, 8, 7], [3, 0, 6]])\n",
        "b_sy = sy.Matrix([[-3, 4, 8], [2, -4, 6], [5, 7, 0]])\n",
        "\n",
        "# Pengurangan matriks dengan SymPy\n",
        "diff_sympy = a_sy - b_sy\n",
        "\n",
        "print(\"Pengurangan Matriks:\")\n",
        "\n",
        "def display_side_by_side(m1, m2, result):\n",
        "    rows = len(m1.tolist())\n",
        "    for i in range(rows):\n",
        "        print(m1.row(i), \" - \", m2.row(i), \" = \", result.row(i))\n",
        "\n",
        "display_side_by_side(a_sy, b_sy, diff_sympy)"
      ],
      "metadata": {
        "colab": {
          "base_uri": "https://localhost:8080/"
        },
        "id": "_OUkSv00TX7S",
        "outputId": "2b3e284e-af08-40f6-fbe0-17d6fddaad45"
      },
      "execution_count": 2,
      "outputs": [
        {
          "output_type": "stream",
          "name": "stdout",
          "text": [
            "Pengurangan Matriks:\n",
            "Matrix([[2, 4, 5]])  -  Matrix([[-3, 4, 8]])  =  Matrix([[5, 0, -3]])\n",
            "Matrix([[1, 8, 7]])  -  Matrix([[2, -4, 6]])  =  Matrix([[-1, 12, 1]])\n",
            "Matrix([[3, 0, 6]])  -  Matrix([[5, 7, 0]])  =  Matrix([[-2, -7, 6]])\n"
          ]
        }
      ]
    },
    {
      "cell_type": "markdown",
      "source": [
        "## Operasi Perkalian Matriks\n",
        "  Perkalian matriks ada 2, yaitu :\n",
        "-  Operasi Perkalian Matriks dengan Bilangan Real (Skalar)\n",
        "- Operasi Perkalian Dua Matriks\n",
        "\n",
        "### Operasi Perkalian Matriks dengan Bilangan Real (Skalar)\n",
        "\n",
        "Perkalian matriks dengan bilangan real (skalar) tidak memiliki persyaratan. Jadi, semua matriks dengan ordo apapun bisa dikalikan dengan bilangan real (skalar).\n",
        "\n",
        "Contoh :"
      ],
      "metadata": {
        "id": "I2BNRCvYT6PP"
      }
    },
    {
      "cell_type": "code",
      "source": [
        "import sympy as sy\n",
        "\n",
        "# Definisi matriks dengan SymPy\n",
        "a_sy = sy.Matrix([[2, 4, 5], [1, 8, 7], [3, 0, 6]])\n",
        "\n",
        "# Definisi skalar\n",
        "scalar = 3\n",
        "\n",
        "# Perkalian matriks dengan skalar\n",
        "prod_sympy = scalar * a_sy\n",
        "\n",
        "print(\"Perkalian Matriks dengan Skalar:\")\n",
        "\n",
        "def display_scalar_multiplication(scalar, matrix, result):\n",
        "    rows = len(matrix.tolist())\n",
        "    for i in range(rows):\n",
        "        print(f\"{scalar} * {matrix.row(i)} = {result.row(i)}\")\n",
        "\n",
        "display_scalar_multiplication(scalar, a_sy, prod_sympy)"
      ],
      "metadata": {
        "colab": {
          "base_uri": "https://localhost:8080/"
        },
        "id": "U8AcfVx0VZJw",
        "outputId": "102e1be8-4258-475f-dad1-d0bae2c175a4"
      },
      "execution_count": 3,
      "outputs": [
        {
          "output_type": "stream",
          "name": "stdout",
          "text": [
            "Perkalian Matriks dengan Skalar:\n",
            "3 * Matrix([[2, 4, 5]]) = Matrix([[6, 12, 15]])\n",
            "3 * Matrix([[1, 8, 7]]) = Matrix([[3, 24, 21]])\n",
            "3 * Matrix([[3, 0, 6]]) = Matrix([[9, 0, 18]])\n"
          ]
        }
      ]
    },
    {
      "cell_type": "markdown",
      "source": [
        " ### Operasi Perkalian Dua Matriks\n",
        "Pada pembahasan sebelumnya, kita sudah mengetahui bagaimana cara mengalikan matriks dengan bilangan real (skalar).\n",
        "\n",
        "#### Operasi perkalian dua matriks memilik berberapa sifat, yaitu:\n",
        "- Tidak Komutatif\n",
        "\n",
        "Operasi perkalian dua matriks bersifat tidak komutatif. Artinya, berbeda dengan perkalian pada umumnya.\n",
        "\n",
        "-  Sifat Distributif\n",
        "\n",
        "Pada sifat distributif ini berkaitan dengan operasi penjumlahan matriks.\n"
      ],
      "metadata": {
        "id": "cyOHkLRkVe0m"
      }
    },
    {
      "cell_type": "code",
      "source": [
        "import sympy as sy\n",
        "\n",
        "# Definisi matriks dengan SymPy\n",
        "a_sy = sy.Matrix([[2, 4, 5], [1, 8, 7], [3, 0, 6]])\n",
        "b_sy = sy.Matrix([[-3, 4, 8], [2, -4, 6], [5, 7, 0]])\n",
        "\n",
        "# Perkalian matriks dengan SymPy\n",
        "prod_sympy = a_sy * b_sy\n",
        "\n",
        "print(\"Perkalian Matriks dengan Matriks:\")\n",
        "\n",
        "def display_side_by_side(m1, m2, result):\n",
        "    rows = len(m1.tolist())\n",
        "    for i in range(rows):\n",
        "        print(m1.row(i), \" * \", m2, \" = \", result.row(i))\n",
        "\n",
        "display_side_by_side(a_sy, b_sy, prod_sympy)"
      ],
      "metadata": {
        "colab": {
          "base_uri": "https://localhost:8080/"
        },
        "id": "G7ezswACVmLk",
        "outputId": "ff97a7e2-5b94-4156-8805-94747b14127e"
      },
      "execution_count": 4,
      "outputs": [
        {
          "output_type": "stream",
          "name": "stdout",
          "text": [
            "Perkalian Matriks dengan Matriks:\n",
            "Matrix([[2, 4, 5]])  *  Matrix([[-3, 4, 8], [2, -4, 6], [5, 7, 0]])  =  Matrix([[27, 27, 40]])\n",
            "Matrix([[1, 8, 7]])  *  Matrix([[-3, 4, 8], [2, -4, 6], [5, 7, 0]])  =  Matrix([[48, 21, 56]])\n",
            "Matrix([[3, 0, 6]])  *  Matrix([[-3, 4, 8], [2, -4, 6], [5, 7, 0]])  =  Matrix([[21, 54, 24]])\n"
          ]
        }
      ]
    }
  ]
}